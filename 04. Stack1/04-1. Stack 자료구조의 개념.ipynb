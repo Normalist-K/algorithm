{
 "cells": [
  {
   "cell_type": "markdown",
   "metadata": {},
   "source": [
    "# Stack 자료구조의 개념\n",
    "\n",
    "## Stack 특성\n",
    "- 물건을 쌓아 올리듯 자료를 쌓아 올린 형태의 자료구조\n",
    "- 스택에 저장된 자료는 선형구조를 가짐\n",
    "  - 선형구조: 자료 간의 관계가 1대 1의 관계\n",
    "  - 비선형구조: 1대 다의 관계(예: 트리)\n",
    "- 스택에 자료를 삽입하거나 꺼낼 수 있음\n",
    "- 후입선출(LIFO, Last-In First-Out): 마지막에 삽입한 자료를 가장 먼저 꺼냄"
   ]
  },
  {
   "cell_type": "markdown",
   "metadata": {},
   "source": [
    "## Stack 구현\n",
    "- 자료구조: 자료를 선형으로 저장할 저장소 필요\n",
    "  - C언어에서는 배열 사용\n",
    "  - 파이썬에서는 리스트 사용\n",
    "  - 저장소 자체를 스택이라 부르기도 함\n",
    "  - 스택에서 마지막 삽입된 원소의 위치를 **top**이라 부름\n",
    "  \n",
    "- 연산\n",
    "  - **삽입**: 저장소에 자료를 저장하고 보통 **push**라고 부름\n",
    "  - **삭제**: 저장소에서 삽입한 자료의 역순으로 자료를 꺼냄, 보통 **pop**이라고 부름\n",
    "  - **isEmpty**: 스택이 공백인지 아닌지 확인\n",
    "  - **peek**: 스택의 top에 있는 item(원소)을 반환하는 연산"
   ]
  },
  {
   "cell_type": "markdown",
   "metadata": {},
   "source": [
    "## Stack 연산\n",
    "- 파이썬에서는 list 사용\n",
    "  - list는 크기에 제한 없이 데이터 삽입 가능 -> overflow문제 고려 X\n",
    "  - top 변수도 필요없음, append로 맨 마지막에 삽입하고 len()을 이용해 길이를 구해서 top을 대체\n",
    "  - 장점: 구현이 용이하다\n",
    "  - 단점: 리스트의 크기를 변경하는 작업은 내부적으로 큰 overhead 발생 작업으로 많은 시간이 소요\n",
    "  \n",
    "  \n",
    "- list사용시 단점을 해결하는 방법\n",
    "  1. 리스트의 크기가 변동되지 않도록 배열처럼 크기를 미리 정해놓고 사용하는 방법\n",
    "  2. 동적 연결리스트를 이용하여 저장소를 동적으로 할당하여 스택을 구현하는 방법"
   ]
  },
  {
   "cell_type": "code",
   "execution_count": 1,
   "metadata": {},
   "outputs": [
    {
     "name": "stdout",
     "output_type": "stream",
     "text": [
      "pop item => 3\n",
      "pop item => 2\n",
      "pop item => 1\n"
     ]
    }
   ],
   "source": [
    "# list를 사용한 stack 구현\n",
    "\n",
    "# push algorithm\n",
    "\n",
    "def push(item):\n",
    "    s.append(item)\n",
    "    \n",
    "    \n",
    "# pop algorithm\n",
    "\n",
    "def pop():\n",
    "    if len(s) == 0:\n",
    "        # underflow\n",
    "        return\n",
    "    else:\n",
    "        return s.pop(-1)\n",
    "    \n",
    "# 구현\n",
    "\n",
    "s = []\n",
    "push(1)\n",
    "push(2)\n",
    "push(3)\n",
    "print(\"pop item =>\", pop())\n",
    "print(\"pop item =>\", pop())\n",
    "print(\"pop item =>\", pop())"
   ]
  },
  {
   "cell_type": "code",
   "execution_count": null,
   "metadata": {},
   "outputs": [],
   "source": []
  }
 ],
 "metadata": {
  "kernelspec": {
   "display_name": "Python 3",
   "language": "python",
   "name": "python3"
  },
  "language_info": {
   "codemirror_mode": {
    "name": "ipython",
    "version": 3
   },
   "file_extension": ".py",
   "mimetype": "text/x-python",
   "name": "python",
   "nbconvert_exporter": "python",
   "pygments_lexer": "ipython3",
   "version": "3.7.4"
  }
 },
 "nbformat": 4,
 "nbformat_minor": 2
}
