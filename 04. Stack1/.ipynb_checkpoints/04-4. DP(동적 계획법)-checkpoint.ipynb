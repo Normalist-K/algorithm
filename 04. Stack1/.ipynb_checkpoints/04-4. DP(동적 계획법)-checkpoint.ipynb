{
 "cells": [
  {
   "cell_type": "markdown",
   "metadata": {},
   "source": [
    "# Dynamic Programming 동적 계획법"
   ]
  },
  {
   "cell_type": "markdown",
   "metadata": {},
   "source": [
    "## DP 알고리즘\n",
    "- 그리디 알고리즘과 같이 **최적화** 문제를 해결하는 알고리즘\n",
    "- 먼저 입력 크기가 작은 부분 문제들을 모두 해결한 후에 그 해들을 이용해 보다 큰 크기의 부분 문제들을 해결\n",
    "- 최종적으로 원래 주어진 입력의 문제를 해결\n"
   ]
  },
  {
   "cell_type": "markdown",
   "metadata": {},
   "source": [
    "## DP를 적용한 피보나치 수\n",
    "1. 문제를 부분 문제로 분학\n",
    "2. 부분 문제로 나누는 일을 끝냈으면 가장 작은 부분 문제부터 해를 구함\n",
    "3. 그 결과는 테이블에 저장하고, 테이블에 저장된 부분 문제의 해를 이용하여 상위 문제의 해를 구함\n",
    "\n",
    "## 피보나치에 DP를 적용하는 두가지 구현 방식\n",
    "1. recursive 방식: fibo1() <- 04-3강의\n",
    "  - 재귀적 구조는 내부에 시스템 호출 스택을 사용하는 overhead가 발생할 수 있음\n",
    "2. iterative 방식: fibo2() <- 아래 예제\n",
    "  - Memoization을 재귀적 구조에 사용하는 것보다 반복적 구조에 사용하는 것이 성능 면에서 보다 효율적"
   ]
  },
  {
   "cell_type": "code",
   "execution_count": 3,
   "metadata": {},
   "outputs": [
    {
     "data": {
      "text/plain": [
       "55"
      ]
     },
     "execution_count": 3,
     "metadata": {},
     "output_type": "execute_result"
    }
   ],
   "source": [
    "def fibo2(n):\n",
    "    f = [0, 1]\n",
    "    \n",
    "    for i in range(2, n + 1):\n",
    "        f.append(f[i - 1] + f[i - 2])\n",
    "    \n",
    "    return f[n]\n",
    "\n",
    "fibo2(10)"
   ]
  },
  {
   "cell_type": "markdown",
   "metadata": {},
   "source": []
  }
 ],
 "metadata": {
  "kernelspec": {
   "display_name": "Python 3",
   "language": "python",
   "name": "python3"
  },
  "language_info": {
   "codemirror_mode": {
    "name": "ipython",
    "version": 3
   },
   "file_extension": ".py",
   "mimetype": "text/x-python",
   "name": "python",
   "nbconvert_exporter": "python",
   "pygments_lexer": "ipython3",
   "version": "3.7.4"
  }
 },
 "nbformat": 4,
 "nbformat_minor": 2
}
