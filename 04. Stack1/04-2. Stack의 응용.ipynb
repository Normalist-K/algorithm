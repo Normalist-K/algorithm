{
 "cells": [
  {
   "cell_type": "markdown",
   "metadata": {},
   "source": [
    "# Stack 응용"
   ]
  },
  {
   "cell_type": "markdown",
   "metadata": {},
   "source": [
    "## 괄호검사\n",
    "- 괄호의 종류: 대괄호(Squared Brackets) [], 중괄호(Curly Brackets) {}, 소괄호(Parentheses) ()\n",
    "- 조건\n",
    "  - 왼쪽 괄호의 개수 = 오른쪽 괄호의 개수\n",
    "  - 같은 괄호에서 왼쪽 괄호는 오른쪽 보다 먼저\n",
    "  - 괄호 사이에는 포함 관계만 존재함\n",
    "- 괄호조사 알고리즘\n",
    "  - 문자열에 있는 괄호를 차례대로 조사\n",
    "    - 왼쪽 괄호를 만나면 스택에 삽입(append)\n",
    "    - 오른쪽 괄호를 만나면 스택에서 top 괄호를 삭제(pop)한 후 오른쪽 괄호와 짝이 맞는지 확인\n",
    "      - 스택이 비어있음: 조건 1 또는 조건 2 위배\n",
    "      - 괄호의 짝이 맞지 않음: 조건 3 위배\n",
    "      - 문자열 끝까지 조사한 후에도 스택에 괄호가 남아있음: 조건 1 위배"
   ]
  },
  {
   "cell_type": "markdown",
   "metadata": {},
   "source": [
    "## Function call, 함수 호출 관리\n",
    "- 프로그램에서의 함수 호출과 복귀에 따른 수행 순서를 관리\n",
    "  - 가장 마지막에 호출된 함수가 가장 먼저 실행을 완료하고 복귀하는 **후입선출 구조** -> 스택 이용\n",
    "  - 함수 호출시 호출한 함수 수행에 필요한 **지역변수, 매개변수 및 수행 후 복귀할 주소 등의 정보를 스택 프레임에 저장**하여 시스템 스택에 삽입\n",
    "  - 함수의 실행이 끝나면 **시스템 스택의 top원소(스택 프레임)를 삭제(pop)**하면서 프레임에 저장되어있던 **복귀주소를 확인하고 복귀**\n",
    "  - 함수 호출과 복귀에 따라 이 과정을 반복하여 전체 프로그램 수행이 종료되면 시스템 스택은 공백 스택이 됨\n",
    "  \n",
    "- 재귀 호출\n",
    "  - 자기 자신을 호출하여 순환 수행되는 것\n",
    "  - 장점: 함수에서 실행해야 하는 특성에 따라 일반적인 호출방식보다 프로그램의 크기를 줄이고 간단하게 작성 가능\n",
    "  - 단점: 디버깅이 어렵고 잘못 작성하게 되면 수행 시간이 많이 소요됨 \n",
    "  - 예: factorial 계산 함수"
   ]
  },
  {
   "cell_type": "markdown",
   "metadata": {},
   "source": [
    "### factorial 예제\n",
    "https://shoark7.github.io/programming/algorithm/several-ways-to-solve-factorial-in-python 참고"
   ]
  },
  {
   "cell_type": "code",
   "execution_count": 3,
   "metadata": {},
   "outputs": [
    {
     "data": {
      "text/plain": [
       "120"
      ]
     },
     "execution_count": 3,
     "metadata": {},
     "output_type": "execute_result"
    }
   ],
   "source": [
    "# 내장함수 사용\n",
    "import math\n",
    "\n",
    "math.factorial(5)"
   ]
  },
  {
   "cell_type": "code",
   "execution_count": 6,
   "metadata": {},
   "outputs": [
    {
     "data": {
      "text/plain": [
       "120"
      ]
     },
     "execution_count": 6,
     "metadata": {},
     "output_type": "execute_result"
    }
   ],
   "source": [
    "# 단순 반복문\n",
    "def fact1(n):\n",
    "    f = 1\n",
    "    for i in range(1, n + 1):\n",
    "        f *= i\n",
    "    return f\n",
    "\n",
    "fact1(5)"
   ]
  },
  {
   "cell_type": "code",
   "execution_count": 7,
   "metadata": {},
   "outputs": [
    {
     "data": {
      "text/plain": [
       "120"
      ]
     },
     "execution_count": 7,
     "metadata": {},
     "output_type": "execute_result"
    }
   ],
   "source": [
    "# 재귀 함수\n",
    "def fact2(n):\n",
    "    return n * fact2(n-1) if n > 1 else 1\n",
    "\n",
    "fact2(5)"
   ]
  },
  {
   "cell_type": "code",
   "execution_count": 9,
   "metadata": {},
   "outputs": [
    {
     "data": {
      "text/plain": [
       "120"
      ]
     },
     "execution_count": 9,
     "metadata": {},
     "output_type": "execute_result"
    }
   ],
   "source": [
    "# reduce 함수 사용 (함수형 프로그래밍)\n",
    "from functools import reduce\n",
    "\n",
    "def fact3(n):\n",
    "    return reduce(lambda x, y: x * y, range(1, n + 1))\n",
    "\n",
    "fact3(5)"
   ]
  },
  {
   "cell_type": "code",
   "execution_count": 27,
   "metadata": {},
   "outputs": [
    {
     "data": {
      "text/plain": [
       "120"
      ]
     },
     "execution_count": 27,
     "metadata": {},
     "output_type": "execute_result"
    }
   ],
   "source": [
    "# 동적 계획법(Memoization)\n",
    "\n",
    "def in_cache(func):\n",
    "    cache = {}\n",
    "    def wrapper(n):\n",
    "        if n in cache:\n",
    "            return cache[n]\n",
    "        else:\n",
    "            cache[n] = func(n)\n",
    "            return cache[n]\n",
    "    return wrapper\n",
    "\n",
    "@in_cache\n",
    "def factorial_recursive(n):\n",
    "    return n * factorial_recursive(n-1) if n > 1 else 1\n",
    "\n",
    "factorial_recursive(5)"
   ]
  },
  {
   "cell_type": "code",
   "execution_count": null,
   "metadata": {},
   "outputs": [],
   "source": []
  }
 ],
 "metadata": {
  "kernelspec": {
   "display_name": "Python 3",
   "language": "python",
   "name": "python3"
  },
  "language_info": {
   "codemirror_mode": {
    "name": "ipython",
    "version": 3
   },
   "file_extension": ".py",
   "mimetype": "text/x-python",
   "name": "python",
   "nbconvert_exporter": "python",
   "pygments_lexer": "ipython3",
   "version": "3.7.4"
  }
 },
 "nbformat": 4,
 "nbformat_minor": 2
}
