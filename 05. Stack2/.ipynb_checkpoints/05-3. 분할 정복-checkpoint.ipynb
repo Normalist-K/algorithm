{
 "cells": [
  {
   "cell_type": "markdown",
   "metadata": {},
   "source": [
    "# 분할 정복 (Divide & Conquer)\n",
    "\n",
    "## 거듭 제곱(Exponentiation) 알고리즘 - 일반적 알고리즘\n",
    "- **시간복잡도: O(n)**"
   ]
  },
  {
   "cell_type": "code",
   "execution_count": 1,
   "metadata": {},
   "outputs": [
    {
     "data": {
      "text/plain": [
       "8"
      ]
     },
     "execution_count": 1,
     "metadata": {},
     "output_type": "execute_result"
    }
   ],
   "source": [
    "def power(base, exponent):\n",
    "    if base == 0 : return 1\n",
    "    result = 1 # base^0은 1이므로\n",
    "    for i in range(exponent):\n",
    "        result *= base\n",
    "    return result\n",
    "\n",
    "power(2, 3)"
   ]
  },
  {
   "cell_type": "markdown",
   "metadata": {},
   "source": [
    "## 거듭 제곱(Exponentiation) 알고리즘 - 분할 정복 알고리즘\n",
    "- **시간복잡도: O(log2n)**"
   ]
  },
  {
   "cell_type": "code",
   "execution_count": 3,
   "metadata": {},
   "outputs": [
    {
     "data": {
      "text/plain": [
       "8"
      ]
     },
     "execution_count": 3,
     "metadata": {},
     "output_type": "execute_result"
    }
   ],
   "source": [
    "def power_divide_conquer(base, exponent):\n",
    "    if exponent == 0 or base == 0: return 1\n",
    "    if exponent % 2 == 0:\n",
    "        new_base = power_divide_conquer(base, exponent/2)\n",
    "        return new_base * new_base\n",
    "    else:\n",
    "        new_base = power_divide_conquer(base, (exponent-1)/2)\n",
    "        return (new_base * new_base) * base\n",
    "    \n",
    "power_divide_conquer(2, 3)"
   ]
  },
  {
   "cell_type": "markdown",
   "metadata": {},
   "source": [
    "## 퀵 정렬\n",
    "- 퀵 정렬 vs 합병 정렬\n",
    "  - 공통점: 주어진 리스트를 두개로 분할하고, 각각을 정렬\n",
    "  - 퀵 정렬\n",
    "    - 분할할 때, 기준 아이템(pivot item)을 중심으로, 이보다 작은 것은 왼편, 큰 것은 오른편에 위치시킴\n",
    "    - 각 부분 정렬이 끝난 후, 후처리 작업 필요 없음\n",
    "    - 최악의 경우 **시간복잡도: O(n<sup>2</sup>)**\n",
    "    - 평균의 경우 **시간복잡도: O(nlogn)**\n",
    "  - 합병 정렬\n",
    "    - 분할할 때, 단순히 두 부분으로 나눔\n",
    "    - 각 부분 정렬이 끝난 후, '합병'이라는 후처리 작업 필요"
   ]
  },
  {
   "cell_type": "code",
   "execution_count": 8,
   "metadata": {},
   "outputs": [
    {
     "data": {
      "text/plain": [
       "[3, 9, 11, 15, 23, 29, 32, 68]"
      ]
     },
     "execution_count": 8,
     "metadata": {},
     "output_type": "execute_result"
    }
   ],
   "source": [
    "def partition(a, begin, end):\n",
    "    pivot = (begin + end) // 2\n",
    "    L = begin\n",
    "    R = end\n",
    "    while L < R:\n",
    "        while(a[L] < a[pivot] and L < R): L += 1\n",
    "        while(a[R] >= a[pivot] and L < R): R -= 1\n",
    "        if L < R:\n",
    "            if L == pivot: pivot = R\n",
    "            a[L], a[R] = a[R], a[L]\n",
    "    a[pivot], a[R] = a[R], a[pivot]\n",
    "    return R\n",
    "\n",
    "def quick_sort(a, begin, end):\n",
    "    if begin < end:\n",
    "        p = partition(a, begin, end)\n",
    "        quick_sort(a, begin, p - 1)\n",
    "        quick_sort(a, p + 1, end)\n",
    "        \n",
    "a = [68, 11, 29, 3, 15, 9, 32, 23]\n",
    "quick_sort(a, 0, len(a)-1)\n",
    "a"
   ]
  }
 ],
 "metadata": {
  "kernelspec": {
   "display_name": "Python 3",
   "language": "python",
   "name": "python3"
  },
  "language_info": {
   "codemirror_mode": {
    "name": "ipython",
    "version": 3
   },
   "file_extension": ".py",
   "mimetype": "text/x-python",
   "name": "python",
   "nbconvert_exporter": "python",
   "pygments_lexer": "ipython3",
   "version": "3.7.4"
  }
 },
 "nbformat": 4,
 "nbformat_minor": 2
}
