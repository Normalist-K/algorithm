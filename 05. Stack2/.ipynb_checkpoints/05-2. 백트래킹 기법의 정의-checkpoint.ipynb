{
 "cells": [
  {
   "cell_type": "markdown",
   "metadata": {},
   "source": [
    "# 백트래킹(Backtracking)\n",
    "\n",
    "## 백트래킹 기법의 정의\n",
    "- 해를 찾는 도중에 '막히면', (즉, 해가 아니면) 되돌아가서 다시 해를 찾는 기법\n",
    "- 최적화(Optimization) 문제\n",
    "- 결정(Decision) 문제\n",
    "  - 문제의 조건을 만족하는 해가 존재하는지의 여부를 'yes' 또는 'no'로 답하는 문제\n",
    "  - 미로 찾기, n-Queen 문제, Map coloring, Subset Sum 등"
   ]
  },
  {
   "cell_type": "markdown",
   "metadata": {},
   "source": [
    "## 미로 찾기\n",
    "- 입추와 출구가 주어진 미로에서 경로 찾기 문제\n",
    "- 이동은 4방향\n",
    "\n",
    "### 알고리즘\n",
    "- 이동할 때 마다 좌표와 방향을 push\n",
    "- 막히면 스택을 이용해 지나온 경로를 역으로 돌아감\n",
    "- 다시 경로 찾기"
   ]
  },
  {
   "cell_type": "code",
   "execution_count": 21,
   "metadata": {},
   "outputs": [],
   "source": [
    "mazeArray = [\n",
    "[0,0,1,1,1,1,1,1],\n",
    "[1,0,0,0,0,0,0,1],\n",
    "[1,1,1,0,1,1,1,1],\n",
    "[1,1,1,0,1,1,1,1],\n",
    "[1,0,0,0,0,0,0,1],\n",
    "[1,0,1,1,1,1,1,1],\n",
    "[1,0,0,0,0,0,0,0],\n",
    "[1,1,1,1,1,1,1,0]]"
   ]
  },
  {
   "cell_type": "code",
   "execution_count": 22,
   "metadata": {},
   "outputs": [
    {
     "data": {
      "text/plain": [
       "(0, 1, 1, 0)"
      ]
     },
     "execution_count": 22,
     "metadata": {},
     "output_type": "execute_result"
    }
   ],
   "source": [
    "(0, 1) + (1, 0)"
   ]
  },
  {
   "cell_type": "markdown",
   "metadata": {},
   "source": [
    "## 특징\n",
    "- 백트래킹 vs. 깊이 우선 탐색\n",
    "  - 백트래킹\n",
    "    - 가지치기(Prunning): 유망성(Promising)점검 후 유망하지 않다면 그 경로를 따라가지 않음 -> **시도 횟수를 줄일 수 있다**\n",
    "    - N! 경우의 수를 가진 문제에 적용하면 일반적으로 **경우의 수가 줄어듦**, 하지만 최악의 경우에는 여전히 지수함수 시간을 요하므로 처리 불가\n",
    "    - 모든 후보를 검사하지 않음\n",
    "  - 깊이 우선 탐색\n",
    "    - 모든 경로를 추적\n",
    "    - N! 경우의 수를 가진 문제는 **처리 불가**\n",
    "    - 모든 후보를 검사\n",
    "    "
   ]
  },
  {
   "cell_type": "markdown",
   "metadata": {},
   "source": [
    "## 절차\n",
    "1. 상태 공간 Tree의 깊이 우선 검색을 실시\n",
    "2. 각 노드가 유망한지를 점검\n",
    "3. 만일 그 노드가 유망하지 않으면, 그 노드의 부모 노드로 돌아가서 검색을 계속"
   ]
  },
  {
   "cell_type": "markdown",
   "metadata": {},
   "source": [
    "## Power Set\n",
    "- 어떤 집합의 공집합과 자기자신을 포함한 모든 부분집합\n",
    "- 구하고자 하는 어떤 집합의 원소 개수가 n일 경우 부분집합의 개수는 2<sup>n</sup>이 나옴\n",
    "- 알고리즘\n",
    "  - True 또는 False 값을 가지는 항목들로 구성된 n개의 리스트를 만드는 방법 이용\n",
    "  - 리스트의 i번째 항목은 i번째 원소가 부분집합의 값인지 아닌지를 나타내는 값"
   ]
  },
  {
   "cell_type": "code",
   "execution_count": 26,
   "metadata": {},
   "outputs": [
    {
     "name": "stdout",
     "output_type": "stream",
     "text": [
      "(123)\n",
      "(12)\n",
      "(13)\n",
      "(1)\n",
      "(23)\n",
      "(2)\n",
      "(3)\n",
      "()\n"
     ]
    }
   ],
   "source": [
    "def construct_candidates(c):\n",
    "    c[0] = True\n",
    "    c[1] = False\n",
    "    return 2\n",
    "\n",
    "def process_solution(a, k):\n",
    "    print(\"(\", end=\"\")\n",
    "    for i in range(k+1):\n",
    "        if a[i]:\n",
    "            print(i, end=\"\")\n",
    "    print(\")\")\n",
    "            \n",
    "def backtrack(a, k, n): # k: 현재 과정 / t: 전체 과정\n",
    "    global MAXCANDIDATES\n",
    "    c = [0]*MAXCANDIDATES\n",
    "    \n",
    "    if k == n:\n",
    "        process_solution(a, k) # 답이면 원하는 작업 수행\n",
    "    else:\n",
    "        k += 1\n",
    "        ncandidates = construct_candidates(c)\n",
    "        for i in range(ncandidates):\n",
    "            a[k] = c[i]\n",
    "            backtrack(a, k, n)\n",
    "            \n",
    "MAXCANDIDATES = 100\n",
    "NMAX = 100\n",
    "a = [0] * NMAX\n",
    "backtrack(a, 0, 3)"
   ]
  },
  {
   "cell_type": "markdown",
   "metadata": {},
   "source": [
    "## 순열을 구하는 백트래킹 알고리즘"
   ]
  },
  {
   "cell_type": "code",
   "execution_count": 31,
   "metadata": {},
   "outputs": [
    {
     "name": "stdout",
     "output_type": "stream",
     "text": [
      "123\n",
      "132\n",
      "213\n",
      "231\n",
      "312\n",
      "321\n"
     ]
    }
   ],
   "source": [
    "def construct_candidates(a, k, n, c):\n",
    "    in_perm = [False] * NMAX\n",
    "    \n",
    "    for i in range(1, k):\n",
    "        in_perm[a[i]] = True\n",
    "        \n",
    "    ncandidates = 0\n",
    "    for i in range(0, n):\n",
    "        if in_perm[i] == False:\n",
    "            c[ncandidates] = i\n",
    "            ncandidates += 1\n",
    "    return ncandidates\n",
    "    \n",
    "\n",
    "def backtrack(a, k, n):\n",
    "    global MAXCANDIDATES\n",
    "    c = [0] * MAXCANDIDATES\n",
    "    \n",
    "    if k == n:\n",
    "        for i in range(1, k + 1):\n",
    "            print(a[i], end='')\n",
    "        print()\n",
    "    else:\n",
    "        k += 1\n",
    "        ncandidates = construct_candidates(a, k, n, c)\n",
    "        for i in range(ncandidates):\n",
    "            a[k] = c[i]\n",
    "            backtrack(a, k, n)\n",
    "            \n",
    "MAXCANDIDATES = 100\n",
    "NMAX = 100\n",
    "a = [0] * NMAX\n",
    "backtrack(a, 0, 3)"
   ]
  },
  {
   "cell_type": "code",
   "execution_count": null,
   "metadata": {},
   "outputs": [],
   "source": []
  }
 ],
 "metadata": {
  "kernelspec": {
   "display_name": "Python 3",
   "language": "python",
   "name": "python3"
  },
  "language_info": {
   "codemirror_mode": {
    "name": "ipython",
    "version": 3
   },
   "file_extension": ".py",
   "mimetype": "text/x-python",
   "name": "python",
   "nbconvert_exporter": "python",
   "pygments_lexer": "ipython3",
   "version": "3.7.4"
  }
 },
 "nbformat": 4,
 "nbformat_minor": 2
}
