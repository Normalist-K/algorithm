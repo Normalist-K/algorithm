{
 "cells": [
  {
   "cell_type": "markdown",
   "metadata": {},
   "source": [
    "# 계산기\n",
    "\n",
    "## 계산기에서 Stack의 활용\n",
    "- 문자열 수식 계산의 일반적인 방법\n",
    "  - step 1: 중위표기법의 수식을 후위표기법으로 변경 => 스택 이용\n",
    "    - 중위표기법(infix notation): 연산자를 피연산자 가운데 표기. A+B\n",
    "    - 후위표기법(postfix notation): 연산자를 피연산자 뒤에 표기. AB+\n",
    "    - 변환 방법 1\n",
    "      1. 수식의 각 연산자에 대해서 우선순위에 따라 괄호를 사용하여 다시 표현. ((A*B)-(C/D))\n",
    "      2. 각 연산자를 그에 대응하는 오른쪽 괄호의 뒤로 이동. ((AB)*(CD)/)-\n",
    "      3. 괄호 제거 AB*CD/-\n",
    "      4. 손으로 적는 것은 쉬워도 프로그래밍으로 구현하기가 어려움 -> 변환 알고리즘 필요\n",
    "    - 변환 방법 2 : 연산자는 스택을 거쳐가고, 피연산자는 후위표기법 수식에 출력됨\n",
    "      1. 입력 받은 중위표기식에서 토큰(수식에서 의미 있는 최소의 단위)을 읽음\n",
    "      2. 토큰이 피연산자이면 토큰을 출력\n",
    "      3. 토큰이 연산자(괄호포함)일 경우 스택 top과 비교\n",
    "        - 우선순위가 높으면 -> 스택에 push\n",
    "        - 우선순위가 안높으면 -> 연산자의 우선순위가 토큰의 우선순위보다 작을 때까지 스택에서 pop한 후 토큰의 연산자를 push\n",
    "        - 만약에 top에 연산자가 없으면 -> push\n",
    "      4. 토큰이 오른쪽 괄호 ')'일 경우\n",
    "        - 스택 top에 왼쪽 괄호 '('가 올 때까지 스택에 pop 연산을 수행\n",
    "        - pop한 연산자를 출력\n",
    "        - 왼쪽 괄호를 만나면 pop만 하고 출력하지는 않음\n",
    "      5. 중위표기식에 더 읽을 것이 없다면 중지, 더 읽을 것이 있다면 1부터 반복\n",
    "      6. 스택에 남아 있는 연산자를 모두 pop하여 출력\n",
    "        - 스택 밖의 왼쪽 괄호는 우선 순위가 가장 높으며,\n",
    "        - 스택 안의 왼쪽 괄호는 우선 순위가 가장 낮음\n",
    "  - step 2: 후위표기법의 수식을 스택을 이용하여 계산\n",
    "    - 계산 방법\n",
    "      1. 피연산자를 만나면 스택에 push\n",
    "      2. 연산자를 만나면 필요한 만큼의 피연산자를 스택에서 pop하여 연산, 연산결과를 다시 스택에 push\n",
    "        - 뺄샘일 경우 위치 조심, 먼저 pop되는 피연산자가 뺄샘 뒤에 위치\n",
    "      3. 수식이 끝나면, 마지막으로 스택을 pop하여 출력\n",
    "    - eval() 내장 함수 활용\n",
    "      - 스택을 두 번 사용해서 처리했던 연산을 파이썬에서 제공되는 eval() 내장함수로 계산할 수 있음\n",
    "        -  eval: 문자열로 된 수실을 계산함\n",
    "        - Evaluation: \"값을 구함\"이란 뜻\n",
    "        - 올바른 수식이 아닌 경우 SyntaxError 예외가 발생\n",
    "        - eval(\"6+5*(2-8)/2\")는 문자열로 된 수식의 계산결과를 반환함\n",
    "    "
   ]
  },
  {
   "cell_type": "code",
   "execution_count": 1,
   "metadata": {},
   "outputs": [
    {
     "data": {
      "text/plain": [
       "-9.0"
      ]
     },
     "execution_count": 1,
     "metadata": {},
     "output_type": "execute_result"
    }
   ],
   "source": [
    "eval(\"6+5*(2-8)/2\")"
   ]
  },
  {
   "cell_type": "code",
   "execution_count": null,
   "metadata": {},
   "outputs": [],
   "source": []
  }
 ],
 "metadata": {
  "kernelspec": {
   "display_name": "Python 3",
   "language": "python",
   "name": "python3"
  },
  "language_info": {
   "codemirror_mode": {
    "name": "ipython",
    "version": 3
   },
   "file_extension": ".py",
   "mimetype": "text/x-python",
   "name": "python",
   "nbconvert_exporter": "python",
   "pygments_lexer": "ipython3",
   "version": "3.7.4"
  }
 },
 "nbformat": 4,
 "nbformat_minor": 2
}
