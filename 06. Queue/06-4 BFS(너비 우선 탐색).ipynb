{
 "cells": [
  {
   "cell_type": "markdown",
   "metadata": {},
   "source": [
    "# Breadth First Search, 너비 우선 탐색\n",
    "- 큐 활용 (DFS는 스택 활용)\n",
    "- 시작점의 인접한 정점들을 모두 차례로 방문 후 방문했던 정점을 시작점으로하여 다시 인접한 정점들을 차례로 방문\n",
    "- 인접한 정점들을 탐색한 후, 차례로 너비 우선 탐색을 진행해야 하므로, 큐 활용"
   ]
  },
  {
   "cell_type": "code",
   "execution_count": null,
   "metadata": {},
   "outputs": [],
   "source": [
    "def BFS(G, v): # 그래프 G, 탐색 시작점 v\n",
    "    visited = [False]*n # n: 정점의 개수\n",
    "    queue = []\n",
    "    queue.append(v) # 시작점 v를 큐에 삽입\n",
    "    while queue:\n",
    "        t = queue.pop(0) # 큐의 첫번째 원소 반환\n",
    "        if not visited[t]: # 방문하지 않은 곳이라면\n",
    "            visited[t] = True # 방문한 것으로 표시\n",
    "            visit(t)\n",
    "        for i in G[t]: # t와 연결된 모든 선에 대해\n",
    "            if not visited[i]: # 방문하지 않은 곳이라면\n",
    "                queue.append(i) # 큐에 넣기\n",
    "        "
   ]
  },
  {
   "cell_type": "code",
   "execution_count": 3,
   "metadata": {},
   "outputs": [
    {
     "data": {
      "text/plain": [
       "(1, 2)"
      ]
     },
     "execution_count": 3,
     "metadata": {},
     "output_type": "execute_result"
    }
   ],
   "source": [
    "idx, dst = map(int, [1, 2])\n",
    "idx, dst"
   ]
  },
  {
   "cell_type": "code",
   "execution_count": 4,
   "metadata": {},
   "outputs": [
    {
     "data": {
      "text/plain": [
       "True"
      ]
     },
     "execution_count": 4,
     "metadata": {},
     "output_type": "execute_result"
    }
   ],
   "source": [
    "{1, 2} == {2, 1}"
   ]
  },
  {
   "cell_type": "code",
   "execution_count": null,
   "metadata": {},
   "outputs": [],
   "source": []
  }
 ],
 "metadata": {
  "kernelspec": {
   "display_name": "Python 3",
   "language": "python",
   "name": "python3"
  },
  "language_info": {
   "codemirror_mode": {
    "name": "ipython",
    "version": 3
   },
   "file_extension": ".py",
   "mimetype": "text/x-python",
   "name": "python",
   "nbconvert_exporter": "python",
   "pygments_lexer": "ipython3",
   "version": "3.8.3"
  }
 },
 "nbformat": 4,
 "nbformat_minor": 2
}
