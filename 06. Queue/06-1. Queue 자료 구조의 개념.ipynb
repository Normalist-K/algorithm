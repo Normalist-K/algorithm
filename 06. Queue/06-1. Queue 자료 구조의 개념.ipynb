{
 "cells": [
  {
   "cell_type": "markdown",
   "metadata": {},
   "source": [
    "# 06-1. Queue 자료 구조의 개념\n",
    "\n",
    "## Queue의 특성\n",
    "1. 삽입(꼬리, Rear), 삭제(머리, Front)의 위치가 제한적인 자료구조\n",
    "2. 선입선출구조(FIFO, First In First Out)\n",
    "3. 예: 서비스 대기 행렬\n",
    "\n",
    "## Queue 주요 연산\n",
    "- enQueue(item) : 큐의 뒤쪽(rear)에 원소를 삽입\n",
    "- deQueue() : 큐의 앞쪽(Front)에서 원소를 삭제하고 반환\n",
    "- createQueue() : 공백 상태의 큐를 생성하는 연산\n",
    "- isEmpty() : 큐가 공백상태인지 확인\n",
    "- isFull() : 큐가 포화상태인지 확인\n",
    "- Qpeek() : 큐의 앞쪽(Front)에서 원소를 삭제 없이 반환\n",
    "\n",
    "## Queue 종류\n",
    "- 선형 큐: 기본 / list 사용\n",
    "- 원형 큐: 선형에서 발전 / list 사용\n",
    "- 연결 큐: linked list 사용\n",
    "- 우선순위 큐"
   ]
  },
  {
   "cell_type": "markdown",
   "metadata": {},
   "source": []
  }
 ],
 "metadata": {
  "kernelspec": {
   "display_name": "Python 3",
   "language": "python",
   "name": "python3"
  },
  "language_info": {
   "codemirror_mode": {
    "name": "ipython",
    "version": 3
   },
   "file_extension": ".py",
   "mimetype": "text/x-python",
   "name": "python",
   "nbconvert_exporter": "python",
   "pygments_lexer": "ipython3",
   "version": "3.7.4"
  }
 },
 "nbformat": 4,
 "nbformat_minor": 2
}
