{
 "cells": [
  {
   "cell_type": "markdown",
   "metadata": {},
   "source": [
    "# Queue 활용\n",
    "\n",
    "## 우선순위 Queue\n",
    "- 우선순위를 가진 항목들을 저장하는 큐\n",
    "- 우선순위가 높은 순서대로 먼저 나감\n",
    "- 적용 분야\n",
    "  - 시뮬레이션 시스템\n",
    "  - 네트워크 트래픽 제어\n",
    "  - 운영체제의 태스크 스케줄링\n",
    "- 구현\n",
    "  - 리스트를 이용\n",
    "    - 원소를 삽입하는 과정에서 우선순위를 비교하여 적절한 위치에 삽입\n",
    "    - 가장 앞에 최고 우선순위의 원소가 위치\n",
    "    - 문제점\n",
    "      - 삽입, 삭제 연산이 일어날 때 원소의 재배치 발생 \n",
    "      - 소요되는 시간이 많음\n",
    "      - 해결책\n",
    "        - PriorityQueue(maxsize) 클래스 사용 (라이브러리)\n",
    "        - 힙 자료구조 사용\n",
    "  - 라이브러리 사용\n",
    "- 기본 연산\n",
    "  - 삽입: 우선순위에 맞게 삽입\n",
    "  - 삭제: 우선순위가 가장 높은 가장 앞 원소를 삭제\n",
    "  \n",
    "## 버퍼\n",
    "- 의미\n",
    "  - 데이터를 한 곳에서 다른 한 곳으로 전송하는 동안 일시적으로 그 데이터를 보관하는 메모리 영역\n",
    "  - 버퍼링: 버퍼를 활용하는 방식 또는 버퍼를 채우는 동작을 의미\n",
    "- 버퍼의 자료 구조\n",
    "  - 일반적으로 입출력 및 네트워크와 관련된 기능에서 이용\n",
    "  - 순서대로 입력/출력/전달되어야 하므로 FIFO 방식의 자료구조인 큐가 활용됨\n",
    "- "
   ]
  },
  {
   "cell_type": "code",
   "execution_count": null,
   "metadata": {},
   "outputs": [],
   "source": []
  }
 ],
 "metadata": {
  "kernelspec": {
   "display_name": "Python 3",
   "language": "python",
   "name": "python3"
  },
  "language_info": {
   "codemirror_mode": {
    "name": "ipython",
    "version": 3
   },
   "file_extension": ".py",
   "mimetype": "text/x-python",
   "name": "python",
   "nbconvert_exporter": "python",
   "pygments_lexer": "ipython3",
   "version": "3.7.4"
  }
 },
 "nbformat": 4,
 "nbformat_minor": 2
}
