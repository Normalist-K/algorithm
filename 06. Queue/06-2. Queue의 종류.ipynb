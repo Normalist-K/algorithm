{
 "cells": [
  {
   "cell_type": "markdown",
   "metadata": {},
   "source": [
    "# Queue의 종류\n",
    "\n",
    "## 선형 Queue\n",
    "- 1차원 List 이용\n",
    "  - 큐의 크기 = 리스트의 크기\n",
    "  - front: 저장된 첫 번째 원소의 인덱스\n",
    "  - rear: 저장된 마지막 원소의 인덱스\n",
    "  \n",
    "- 상태 표현\n",
    "  - 초기 상태: front = rear = -1\n",
    "  - 공백 상태: front = rear\n",
    "  - 포화 상태: rear = n - 1 (n: 리스트의 크기) \n",
    "  \n",
    "- 문제점\n",
    "  - 잘못된 포화 상태 인식\n",
    "  - 삽입, 삭제를 계속할 경우 앞부분에 활용할 수 있는 공간이 있음에도 포화 상태(rear = n - 1)로 인식\n",
    "\n",
    "- 장점\n",
    "  - 삽입, 삭제의 처리속도 빠름\n",
    "  \n",
    "- 단점\n",
    "  - 메모리 낭비 심함\n",
    "  - 해결 방법\n",
    "    - 원형 큐 사용\n",
    "    - 파이썬의 리스트 특성 사용\n",
    "      - but, 삽입, 삭제 시 복사, 데이터 이동시키는 연산 수행에 많은 시간 소요\n",
    "      - append(item), pop(index) 사용\n",
    "      - front = -1\n",
    "      - rear = len(queue) - 1\n",
    "    - 단순연결 리스트로 구현한 큐 사용으로 메모리 동적 확보\n",
    "    - 큐 라이브러리 사용\n",
    "  \n",
    "- 구현\n",
    "  1. createQueue()\n",
    "    - 초기 공백큐 생성\n",
    "      - 크기 n인 1차원 리스트 생성\n",
    "      - front, rear = -1 초기화\n",
    "  2. enQueue(item)\n",
    "    - 마지막 원소 뒤에 새로운 원소 삽입\n",
    "      - rear 값을 하나 증가시켜 새로운 원소를 삽입할 자리 마련\n",
    "      - 그 인덱스에 해당하는 리스트원소 Q[rear]에 item을 저장\n",
    "  3. deQueue()\n",
    "    - 가장 앞에 있는 원소 삭제\n",
    "      - front 값을 하나 증가시켜 큐에 남아있는 첫 번째 원소로 이동\n",
    "      - 새로운 첫 번째 원소를 리턴함으로써 삭제와 동일한 기능을 함\n",
    "  4. isEmpty(), isFull()\n",
    "    - 공백상태 및 포화상태 검사\n",
    "      - 공백상태: front = rear\n",
    "      - 포화상태: rear = n - 1 (n: 리스트의 크기)\n",
    "      \n",
    "  5. Qpeek()\n",
    "    - 가장 앞에 있는 원소 검색하여 반환\n",
    "      - front + 1 의 원소를 반환"
   ]
  },
  {
   "cell_type": "code",
   "execution_count": 2,
   "metadata": {},
   "outputs": [],
   "source": [
    "class LinearQueue():\n",
    "    \n",
    "    listData = []\n",
    "    front = 0\n",
    "    rear = 0\n",
    "    \n",
    "    def LinearQueue(self, size):\n",
    "        self.listData = [0 for _ in range(size)]\n",
    "        self.front = -1\n",
    "        self.rear = -1\n",
    "    \n",
    "    def enQueue(self, item):\n",
    "        if self.isFull(): \n",
    "            print(\"Queue_Full\")\n",
    "        else:\n",
    "            self.rear += 1\n",
    "            self.listData[self.rear] = item\n",
    "    \n",
    "    def deQueue(self):\n",
    "        if self.isEmpty():\n",
    "            print(\"Queue_Empty\")\n",
    "        else:\n",
    "            self.front += 1\n",
    "            return self.listData[self.front]\n",
    "    \n",
    "    def isEmpty(self):\n",
    "        return self.front == self.rear\n",
    "    \n",
    "    def isFull(self):\n",
    "        return self.rear == len(self.listData) - 1\n",
    "    \n",
    "    def Qpeek(self):\n",
    "        if self.isEmpty():\n",
    "            print(\"Queue_Empty\")\n",
    "        else:\n",
    "            return self.listData[self.front + 1]"
   ]
  },
  {
   "cell_type": "markdown",
   "metadata": {},
   "source": [
    "## 원형 큐\n",
    "- 1차원 리스트를 사용하되, 논리적으로 리스트의 처음과 끝이 연결되어 원형 형태의 큐를 이룬다고 가정하고 사용\n",
    "- 특징\n",
    "  1. 초기 공백 상태\n",
    "    - front = rear = 0\n",
    "  2. Index의 순환\n",
    "    - front와 rear의 위치가 리스트의 마지막 인덱스인 n - 1을 가리킨 후, 논리적 순환을 이루어 리스트의 처음 인덱스인 0으로 이동해야 함\n",
    "    - 이를 위해 나머지 연산자 %를 사용\n",
    "  3. front 변수\n",
    "    - 공백 상태와 포화 상태 구분을 쉽게 하기 위해 front가 있는 자리는 사용하지 않고 항상 빈자리\n",
    "  4. 삽입 및 삭제 위치\n",
    "    - 삽입: rear = (rear + 1) % n \n",
    "    - 삭제: front = (front + 1) % n\n",
    "- 구현\n",
    "  1. createQueue()\n",
    "    - 초기 공백큐 생성\n",
    "      - 크기 n인 1차원 리스트 생성\n",
    "      - front, rear = -1 초기화\n",
    "  2. isEmpty(), isFull()\n",
    "    - 공백상태: front = rear\n",
    "    - 포화상태: (rear + 1) % n = front\n",
    "  3. enQueue(item)\n",
    "    - rear 값을 조정하여 새로운 원소를 삽입할 자리를 마련: rear = (rear + 1) % n\n",
    "    - 인덱스에 해당하는 리스트원소 cQ[rear]에 item을 저장\n",
    "  4. deQueue()\n",
    "    - front 값을 조정하여 삭제할 자리 준비\n",
    "    - 새로운 front 원소를 리턴함으로써 삭제와 동일한 기능을 함"
   ]
  },
  {
   "cell_type": "code",
   "execution_count": 38,
   "metadata": {},
   "outputs": [
    {
     "name": "stdout",
     "output_type": "stream",
     "text": [
      "[0, 0, 0, 0]\n",
      "[0, 'A', 0, 0]\n",
      "[0, 'A', 'B', 0]\n",
      "[0, 'A', 'B', 'C']\n",
      "A\n",
      "['D', 'A', 'B', 'C']\n"
     ]
    }
   ],
   "source": [
    "class CircularQueue():\n",
    "    \n",
    "    listData = []\n",
    "    front = 0\n",
    "    rear = 0\n",
    "    \n",
    "    def __init__(self, size):\n",
    "        self.listData = [0 for _ in range(size + 1)]\n",
    "        self.front = 0\n",
    "        self.rear = 0\n",
    "    \n",
    "    def enQueue(self, item):\n",
    "        if self.isFull(): \n",
    "            print(\"Queue_Full\")\n",
    "        else:\n",
    "            self.rear = (self.rear + 1) % len(self.listData) \n",
    "            self.listData[self.rear] = item\n",
    "    \n",
    "    def deQueue(self):\n",
    "        if self.isEmpty():\n",
    "            print(\"Queue_Empty\")\n",
    "        else:\n",
    "            self.front = (self.front + 1) % len(self.listData)\n",
    "            return self.listData[self.front]\n",
    "        \n",
    "    def isEmpty(self):\n",
    "        return self.front == self.rear\n",
    "    \n",
    "    def isFull(self):\n",
    "        return (self.rear + 1) % len(self.listData) == self.front\n",
    "    \n",
    "    def Qpeek(self):\n",
    "        if self.isEmpty():\n",
    "            print(\"Queue_Empty\")\n",
    "        else:\n",
    "            return self.listData[self.front + 1]\n",
    "        \n",
    "\n",
    "\n",
    "queue = CircularQueue(3)\n",
    "print(queue.listData)\n",
    "queue.enQueue('A')\n",
    "print(queue.listData)\n",
    "queue.enQueue('B')\n",
    "print(queue.listData)\n",
    "queue.enQueue('C')\n",
    "print(queue.listData)\n",
    "print(queue.deQueue())\n",
    "queue.enQueue('D')\n",
    "print(queue.listData)"
   ]
  },
  {
   "cell_type": "code",
   "execution_count": 41,
   "metadata": {},
   "outputs": [
    {
     "data": {
      "text/plain": [
       "0"
      ]
     },
     "execution_count": 41,
     "metadata": {},
     "output_type": "execute_result"
    }
   ],
   "source": [
    "cheeze = 1\n",
    "cheeze //= 2\n",
    "cheeze"
   ]
  },
  {
   "cell_type": "code",
   "execution_count": 27,
   "metadata": {},
   "outputs": [
    {
     "name": "stdout",
     "output_type": "stream",
     "text": [
      "A\n"
     ]
    },
    {
     "data": {
      "text/plain": [
       "2"
      ]
     },
     "execution_count": 27,
     "metadata": {},
     "output_type": "execute_result"
    }
   ],
   "source": [
    "class CircularQueuePython():\n",
    "    def __init__(self):\n",
    "        self.queue = []\n",
    "        \n",
    "    def enQueue(self, item):\n",
    "        self.queue.append(item)\n",
    "        \n",
    "    def deQueue(self):\n",
    "        if self.isEmpty():\n",
    "            print(\"Queue_Empty\")\n",
    "        else:\n",
    "            return self.queue.pop(0)\n",
    "    \n",
    "    def isEmpty(self):\n",
    "        return len(self.queue) == 0\n",
    "    \n",
    "    def Qpeek(self):\n",
    "        if self.isEmpty():\n",
    "            print(\"Queue_Empty\")\n",
    "        else:\n",
    "            return self.queue[0]\n",
    "\n",
    "queue = CircularQueuePython()\n",
    "queue.enQueue('A')\n",
    "queue.enQueue('B')\n",
    "queue.enQueue('C')\n",
    "print(queue.deQueue())\n",
    "len(queue.queue)"
   ]
  },
  {
   "cell_type": "markdown",
   "metadata": {},
   "source": [
    "## 연결 큐\n",
    "- 특징\n",
    "  1. 단순 linked list를 이용한 큐\n",
    "    - 큐의 원소: 단순 연결 리스트의 노드\n",
    "    - 큐의 원소 순서: 노드의 연결 순서, 링크로 연결되어 있음\n",
    "    - front: 첫 번째 노드를 가리키는 링크\n",
    "    - rear: 마지막 노드를 가리키는 링크\n",
    "  2. 상태표현\n",
    "    - 초기 상태: front = rear = None\n",
    "    - 공백 상태: front = rear = None"
   ]
  },
  {
   "cell_type": "code",
   "execution_count": 23,
   "metadata": {},
   "outputs": [
    {
     "name": "stdout",
     "output_type": "stream",
     "text": [
      "a b c \n",
      "a\n",
      "b\n",
      "c\n"
     ]
    }
   ],
   "source": [
    "class Node:\n",
    "    def __init__(self, item, n=None):\n",
    "        self.item = item\n",
    "        self.next = n\n",
    "        \n",
    "def enQueue(item):\n",
    "    global front, rear\n",
    "    newNode = Node(item)\n",
    "    if front == None:\n",
    "        front = newNode\n",
    "    else: \n",
    "        rear.next = newNode\n",
    "    rear = newNode\n",
    "    \n",
    "def isEmpty():\n",
    "    return front == None\n",
    "\n",
    "def deQueue():\n",
    "    global front, rear\n",
    "    if isEmpty():\n",
    "        print(\"Queue_Empty\")\n",
    "        return None\n",
    "    item = front.item\n",
    "    front = front.next\n",
    "    if front == None:\n",
    "        rear = None\n",
    "    return item\n",
    "\n",
    "def Qpeek():\n",
    "    return front.item\n",
    "\n",
    "def printQ():\n",
    "    f = front\n",
    "    s = \"\"\n",
    "    while f:\n",
    "        s += f.item + \" \"\n",
    "        f = f.next\n",
    "    return s\n",
    "\n",
    "front = None\n",
    "rear = None\n",
    "\n",
    "enQueue('a')\n",
    "enQueue('b')\n",
    "enQueue('c')\n",
    "print(printQ())\n",
    "print(deQueue())\n",
    "print(deQueue())\n",
    "print(deQueue())"
   ]
  },
  {
   "cell_type": "markdown",
   "metadata": {},
   "source": [
    "## queue library\n",
    "\n",
    "- import queue\n",
    "- queue.Queue(maxsize)\n",
    "- queue.LifoQueue(maxsize)\n",
    "- queue.PriorityQueue(maxsize)\n",
    "\n",
    "- method\n",
    "  - qsize()\n",
    "  - put(item[, block[, timeout]])\n",
    "  - get(block[, timeout]])\n",
    "  - empty()\n",
    "  - full()"
   ]
  },
  {
   "cell_type": "code",
   "execution_count": 25,
   "metadata": {},
   "outputs": [
    {
     "name": "stdout",
     "output_type": "stream",
     "text": [
      "a\n",
      "b\n",
      "c\n"
     ]
    }
   ],
   "source": [
    "import queue\n",
    "\n",
    "q = queue.Queue()\n",
    "q.put('a')\n",
    "q.put('b')\n",
    "q.put('c')\n",
    "\n",
    "while not q.empty():\n",
    "    print(q.get())"
   ]
  },
  {
   "cell_type": "code",
   "execution_count": null,
   "metadata": {},
   "outputs": [],
   "source": []
  },
  {
   "cell_type": "code",
   "execution_count": null,
   "metadata": {},
   "outputs": [],
   "source": []
  },
  {
   "cell_type": "code",
   "execution_count": null,
   "metadata": {},
   "outputs": [],
   "source": []
  }
 ],
 "metadata": {
  "kernelspec": {
   "display_name": "Python 3",
   "language": "python",
   "name": "python3"
  },
  "language_info": {
   "codemirror_mode": {
    "name": "ipython",
    "version": 3
   },
   "file_extension": ".py",
   "mimetype": "text/x-python",
   "name": "python",
   "nbconvert_exporter": "python",
   "pygments_lexer": "ipython3",
   "version": "3.7.4"
  }
 },
 "nbformat": 4,
 "nbformat_minor": 2
}
