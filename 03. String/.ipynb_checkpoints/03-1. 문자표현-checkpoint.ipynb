{
 "cells": [
  {
   "cell_type": "markdown",
   "metadata": {},
   "source": [
    "# 문자표현\n",
    " - 메모리는 숫자만 저장할 수 있음 => 각 문자에 대응되는 숫자를 정해 놓고 그 숫자를 메모리에 저장\n",
    " - 코드체계 : 영어는 대소문자 합쳐서 52개이므로 6비트(64가지)로 모두 표현 가능\n",
    "\n",
    "## ASCII\n",
    " - 아스키코드(ASCII, American Standard Code for Information Interchange): 문자 인코딩 표준\n",
    " - 7 bit 인코딩, 128문자 표현 (33개 표현 불가능한 제어문자 + 95개의 출력 가능 문자)\n",
    " \n",
    "## 확장 ASCII\n",
    " - 부가적인 128개 문자 추가\n",
    " - 1 Byte 내의 8 bit 모두 사용\n",
    " - 서로 다른 프로그램이나 컴퓨터에서 교환 불가\n",
    " - 프로그램이나 컴퓨터/프린터가 그것을 해독할 수 있도록 설계되어야함 \n",
    " \n",
    "## 유니코드 \n",
    " - 다국어 처리를 위한 표준\n",
    " - character set\n",
    "     - UCS-2 (Universial Character Set 2)\n",
    "     - UCS-4\n",
    "     - 유니코드를 저장하는 변수의 크기를 정의 \n",
    "     - 파일 인식시 각 character set을 구분해서 모두 다르게 구현해야하는 문제 발생\n",
    " - 유니코드 인코딩\n",
    "     - UTF (Unicode Transpormation Format)\n",
    "     - UTF-8 : web / MIN: 8 bit / MAX: 32 bit (1 Byte * 4)\n",
    "     - UTF-16: window, java / MIN: 16 bit / MAX: 32 bit (2 Byte * 2)\n",
    "     - UTF-32: unix / MIN & MAX: 32bit (4 Byte * 1)\n",
    "     - 바이트 용량의 최소값에 따라 구분\n",
    "     \n",
    "     \n",
    "## python 인코딩\n",
    " - 2.x : ASCII\n",
    " - 3.x : UTF-8 "
   ]
  },
  {
   "cell_type": "markdown",
   "metadata": {},
   "source": [
    "## 문자열의 분류\n",
    " - 문자열(String)\n",
    "     - 고정길이 문자열(Fixed length)\n",
    "     - 가변길이 문자열(Variable length)\n",
    "       - 길이 조절 문자열(Length controlled) : 자바에서 사용 / 문자열 맨 앞에 문자열의 길이를 저장\n",
    "       - 구분자 문자열(Delimited) : C에서 사용 / 문자열 마지막에 delimiter라는 구분자를 이용해 길이를 조정\n",
    "       \n",
    " - C언어에서 문자열 처리\n",
    "     - 문자들의 배열 형태로 구현된 응용 자료형\n",
    "     - 항상 마지막에 nul을 의미하는 '\\0'을 넣어줘야 함\n",
    "     - 예) char ary[]={'a', 'b', 'c', '\\0'}; // char ary[]=\"abc\";\n",
    "     - 문자열 처리에 필요한 연산을 함수 형태로 제공: strlen(), strcpy(), strcmp(), ...\n",
    "     - ASCII\n",
    " \n",
    " \n",
    " - 자바에서 문자열 처리\n",
    "     - String 클래스 사용\n",
    "     - 예) String str = \"abc\"; // String str = new String(\"abc\");\n",
    "     - 문자열 처리에 필요한 연산을 연산자, 메서드로 제공: -, +, length(), replace(), split(), substring(), ...\n",
    "     - C 보다 연산자가 많음\n",
    "     - UTF-16\n",
    " \n",
    " - 파이썬에서 문자열 처리\n",
    "     - char 타입이 없음 -> 텍스트 데이터 취급방법이 통일되어 있음\n",
    "     - 문자열 기호\n",
    "         - '(홑따옴표), \"(쌍따옴표), '''(홑따옴표 3개), \"\"\"(쌍따옴표 3개) => 로우표현법 사용시, 사용 방법 8가지\n",
    "         - \"\"\" 혹은 ''' 사용시 엔터키 그대로 인식하고, 문자열 안에 '나 \"를 사용하기 편함\n",
    "         - + 연결(concatenation): 문자열 + 문자열 (자바에서 가능한 문자열 + 비문자열은 사용불가)\n",
    "         - * 반복\n",
    "     - sequence 자료형으로 분류: 인덱싱, 슬라이싱 사용가능\n",
    "     - 문자열 클래스에서 문자열 연산을 위한 메서드 제공\n",
    "     - Immutable: tuple처럼 요소 값 수정 불가 => 값을 변경하는 메서드는 문자열을 수정하는게 아니라 새로운 문자열을 생성해서 리턴\n",
    "     - UTF-8"
   ]
  },
  {
   "cell_type": "markdown",
   "metadata": {},
   "source": [
    "\n",
    "## 문자열 복사 알고리즘\n",
    "\n",
    " - c에서는 char 한 글자씩 읽어서 복사\n",
    " - 파이썬은 없음\n",
    " \n",
    "## 문자열 뒤집기\n",
    "\n",
    " - 문자열 내부에서 뒤집기: swap을 위한 임시변수 필요, 문자열의 반만큼 반복 수행\n",
    " - 빈 문자열을 만들어 뒤에서 부터 하나씩 읽어서 타깃에 씌우기\n",
    " \n",
    "## 문자열의 비교\n",
    " \n",
    " - c: strcmp() 함수 사용\n",
    " - 자바: equals() 메서드 사용 (== 연산은 메모리 참조가 같은지 비교)\n",
    " - 파이썬: == 연산자 / is 연산자 (== 연산은 내부적을 \\__eq__()를 호출\n",
    " \n",
    "## 문자열로 된 숫자를 정수로 변환\n",
    "\n",
    " - 문자열로 이루어진 숫자를 그대로 사용하면 예상과 다른 값을 출력\n",
    " - c: atoi() 함수 제공 (역: itoa() 함수)\n",
    " - java: 숫자 클래스의 Parse 메서드 사용, Integer.ParseInt(String) (역: toString())\n",
    " - python: 숫자와 문자 변환 함수 제공, int(\"123\"), float(\"123\"), str(123), repr(123)"
   ]
  },
  {
   "cell_type": "code",
   "execution_count": 6,
   "metadata": {},
   "outputs": [
    {
     "data": {
      "text/plain": [
       "(123, 123.0, '123', '123')"
      ]
     },
     "execution_count": 6,
     "metadata": {},
     "output_type": "execute_result"
    }
   ],
   "source": [
    "int(\"123\"), float(\"123\"), str(123), repr(123)"
   ]
  },
  {
   "cell_type": "code",
   "execution_count": null,
   "metadata": {},
   "outputs": [],
   "source": []
  }
 ],
 "metadata": {
  "kernelspec": {
   "display_name": "Python 3",
   "language": "python",
   "name": "python3"
  },
  "language_info": {
   "codemirror_mode": {
    "name": "ipython",
    "version": 3
   },
   "file_extension": ".py",
   "mimetype": "text/x-python",
   "name": "python",
   "nbconvert_exporter": "python",
   "pygments_lexer": "ipython3",
   "version": "3.7.4"
  }
 },
 "nbformat": 4,
 "nbformat_minor": 2
}
