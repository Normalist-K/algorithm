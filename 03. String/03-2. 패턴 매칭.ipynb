{
 "cells": [
  {
   "cell_type": "markdown",
   "metadata": {},
   "source": [
    "# 패턴매칭\n",
    " - 본문에서 특정한 문자열을 찾는 것\n",
    " \n",
    "## Brute Force(고지식한 알고리즘)\n",
    " - 본문 문자열을 처음부터 끝까지 차례대로 순회하면서 패턴 내의 문자들을 일일이 비교하는 알고리즘\n",
    " - **최악의 경우 시간복잡도: O(MN)**, M = length of pattern, N = length of text"
   ]
  },
  {
   "cell_type": "code",
   "execution_count": 6,
   "metadata": {},
   "outputs": [
    {
     "data": {
      "text/plain": [
       "8"
      ]
     },
     "execution_count": 6,
     "metadata": {},
     "output_type": "execute_result"
    }
   ],
   "source": [
    "def brute_force(text, pattern):\n",
    "    len_p = len(pattern)\n",
    "    len_t = len(text)\n",
    "    idx_p = 0\n",
    "    idx_t = 0\n",
    "    \n",
    "    while(idx_p < len_p and idx_t < len_t):\n",
    "        if text[idx_t] != pattern[idx_p]:\n",
    "            idx_t -= idx_p\n",
    "            idx_p = -1\n",
    "        idx_t += 1\n",
    "        idx_p += 1\n",
    "    \n",
    "    if idx_p == len_p: # 검색 성공\n",
    "        return idx_t - len_p\n",
    "    else: # 검색 실패\n",
    "        return -1\n",
    "    \n",
    "brute_force(\"hello, world\", \"or\")"
   ]
  },
  {
   "cell_type": "markdown",
   "metadata": {},
   "source": [
    "## KMP 알고리즘\n",
    "- 불일치가 발생한 텍스트 문자열의 앞 부분에 어떤 문자가 있었는지 미리 알고 있으므로, 앞 부분을 다시 비교하지 않고 매칭 수행\n",
    "- 패턴을 전처리하여 배열 Next[M]을 구해서 잘못된 시작을 최소화 함, Next[M] = 불일치가 발생할 경우 이동할 다음 위치\n",
    "- **시간복잡도: O(M+N)**, M = length of pattern, N = length of text"
   ]
  },
  {
   "cell_type": "markdown",
   "metadata": {},
   "source": [
    "## 보이어-무어 알고리즘\n",
    "- 오른쪽에서 왼쪽으로 이동하면서 비교 <- 앞 부분보다 끝 부분에서 불일치가 일어날 확률이 높기 때문\n",
    "- 대부분의 상용 소프트웨어에서 채택하고 있는 알고리즘\n",
    "- 패턴의 오른쪽 끝에 있는 문자가 불일치하고, 이 문자가 패턴 내에 존재하지 않는 경우, 이동 거리는 패턴의 길이만큼이 됨\n",
    "- 패턴의 오른쪽 끝에 있는 문자가 불일치하고, 이 문자가 패턴 내에 존재하는 경우, 패턴에서 일치하는 문자를 찾아 이동\n",
    "- 스킵 배열: 패턴에 일치하는 문자가 있는 경우 몇 칸을 움직일지 알려주는 배열\n",
    "- **시간복잡도: (평균적으로) O(N) 미만, (최악의 경우) O(MN)**, M = length of pattern, N = length of text"
   ]
  },
  {
   "cell_type": "code",
   "execution_count": null,
   "metadata": {},
   "outputs": [],
   "source": []
  }
 ],
 "metadata": {
  "kernelspec": {
   "display_name": "Python 3",
   "language": "python",
   "name": "python3"
  },
  "language_info": {
   "codemirror_mode": {
    "name": "ipython",
    "version": 3
   },
   "file_extension": ".py",
   "mimetype": "text/x-python",
   "name": "python",
   "nbconvert_exporter": "python",
   "pygments_lexer": "ipython3",
   "version": "3.7.4"
  }
 },
 "nbformat": 4,
 "nbformat_minor": 2
}
