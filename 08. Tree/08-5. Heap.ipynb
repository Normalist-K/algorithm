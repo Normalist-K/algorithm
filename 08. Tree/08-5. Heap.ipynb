{
 "cells": [
  {
   "cell_type": "markdown",
   "metadata": {},
   "source": [
    "# Heap\n",
    "\n",
    "\n",
    "- 특징\n",
    "    - 완전 이진 트리에 있는 노드 중에서 키 값이 가장 크거나 작은 노드를 찾기 위해 만든 자료구조\n",
    "    - 최대 힙(max heap)\n",
    "        - 키 값이 가장 큰 노드를 찾기 위한 완전 이진 트리\n",
    "        - 부모 노드 키 값 > 자식 노드 키 값\n",
    "        - 루트 노드: 키 값이 가장 큼\n",
    "    - 최소 힙(min heap)\n",
    "        - 그 반대\n",
    "\n",
    "\n",
    "- 삽입 연산\n",
    "    - 일단 빈 칸에 넣고 부모 노드와 비교하면서 자리 바꿈\n",
    "\n",
    "\n",
    "- 삭제 연산\n",
    "    - 힙에서는 루트 노드의 원소만을 삭제 가능\n",
    "    - 루트 노드 삭제 후 반환\n",
    "    - 힙 종류에 따라 최대값 혹은 최소값 반환\n",
    "    - 루트 노드 삭제 후, 마지막 원소를 루트 노드 위치로 이동시키고, 자식 노드와 비교하며 자리 바꾸기"
   ]
  },
  {
   "cell_type": "code",
   "execution_count": null,
   "metadata": {},
   "outputs": [],
   "source": []
  }
 ],
 "metadata": {
  "kernelspec": {
   "display_name": "Python 3",
   "language": "python",
   "name": "python3"
  },
  "language_info": {
   "codemirror_mode": {
    "name": "ipython",
    "version": 3
   },
   "file_extension": ".py",
   "mimetype": "text/x-python",
   "name": "python",
   "nbconvert_exporter": "python",
   "pygments_lexer": "ipython3",
   "version": "3.7.4"
  }
 },
 "nbformat": 4,
 "nbformat_minor": 2
}
