{
 "cells": [
  {
   "cell_type": "markdown",
   "metadata": {},
   "source": [
    "# Tree\n",
    "\n",
    "\n",
    "- 비선형 구조로 원소들 간에 1:n 관계를 가지는 자료구조\n",
    "    1. 원소들 간에 계층관계를 가지는 계층형 자료구조\n",
    "    2. 상위 원소에서 하위 원소로 내려가면서 확장되는 Tree모양의 구조\n",
    "    \n",
    "    \n",
    "- 특성\n",
    "    1. 한 개 이상의 노드로 이루어진 유한 집합\n",
    "        - **루트(Root)**: 노드 중 최상위 노드\n",
    "        - 나머지 노드들: n개(n>=0)의 분리 집합 T1, ..., TN으로 분리될 수 있음\n",
    "    2. 이들 T1, ... TN은 각각 하나의 트리가 되며(재귀적 정의) 루트의 **서브트리(SubTree)**라고 함\n",
    "\n",
    "\n",
    "- 구성요소\n",
    "    1. 노드(node): 트리의 원소\n",
    "        1. 루트 노드(root node): 트리의 시작 노드\n",
    "        2. 형제 노드(sibling): 같은 부모 노드의 자식 노드들\n",
    "        3. 조상 노드(ancestor): 간선을 따라 루트 노드까지 이르는 경로에 있는 모든 노드\n",
    "        4. 서브 트리(sub tree): 부모 노드와 연결된 간선을 끊었을 때 생성되는 트리\n",
    "        3. 자손 노드(descendent): 서브트리에 있는 하위 레벨의 노드들\n",
    "    2. 간선(edge): 부모 노드와 자식 노드를 연결하는 선\n",
    "    3. 차수(degree): 노드에 연결된 자식 노드의 수\n",
    "        - 트리의 차수: 트리에 있는 노드의 차수 중에서 가장 큰 값\n",
    "        - 단말 노드(리프 노드): 차수가 0인 노드 / 자식 노드가 없는 노드\n",
    "    4. 높이(= 레벨)\n",
    "        - 노드의 높이: 루트 노드에 이르는 간선의 수\n",
    "        - 보통 루트의 높이를 0으로 하고 아래로 내려오면서 높이가 1 증가 (문제에 따라 루트의 높이가 1이 되기도 함)\n",
    "        - 트리의 높이(최대 레벨): 트리에 있는 노드의 높이 중에서 가장 큰 값"
   ]
  },
  {
   "cell_type": "code",
   "execution_count": null,
   "metadata": {},
   "outputs": [],
   "source": []
  }
 ],
 "metadata": {
  "kernelspec": {
   "display_name": "Python 3",
   "language": "python",
   "name": "python3"
  },
  "language_info": {
   "codemirror_mode": {
    "name": "ipython",
    "version": 3
   },
   "file_extension": ".py",
   "mimetype": "text/x-python",
   "name": "python",
   "nbconvert_exporter": "python",
   "pygments_lexer": "ipython3",
   "version": "3.7.4"
  }
 },
 "nbformat": 4,
 "nbformat_minor": 2
}
