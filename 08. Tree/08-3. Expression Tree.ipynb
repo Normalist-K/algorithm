{
 "cells": [
  {
   "cell_type": "markdown",
   "metadata": {},
   "source": [
    "# ExpressionTree\n",
    "\n",
    "## List를 이용한 Binary Tree의 표현\n",
    "- 루트 번호를 1로 함\n",
    "- 레벨 n에 있는 노드에 대하여 왼쪽부터 오른쪽까지 순차적으로 번호 부여\n",
    "- 노드 번호의 성질\n",
    "    - 노드 번호가 i인 노드의 부모 노드 번호? i // 2\n",
    "    - 노드 번호가 i인 노드의 왼쪽 자식 노드 번호? i * 2\n",
    "    - 노드 번호가 i인 노드의 오른쪽 자식 노드 번호? i * 2 + 1\n",
    "    - 노드 번호를 리스트의 인덱스로 사용\n",
    "    - 높이가 h인 이진 트리를 위한 리스트의 크기? 2<sup>h+1</sup>-1\n",
    "- 단점\n",
    "    - 편향 이진 트리의 경우 메모리 공간 낭비 발생\n",
    "    - 해결책\n",
    "        - 연결 리스트를 사용"
   ]
  },
  {
   "cell_type": "code",
   "execution_count": null,
   "metadata": {},
   "outputs": [],
   "source": []
  }
 ],
 "metadata": {
  "kernelspec": {
   "display_name": "Python 3",
   "language": "python",
   "name": "python3"
  },
  "language_info": {
   "codemirror_mode": {
    "name": "ipython",
    "version": 3
   },
   "file_extension": ".py",
   "mimetype": "text/x-python",
   "name": "python",
   "nbconvert_exporter": "python",
   "pygments_lexer": "ipython3",
   "version": "3.7.4"
  }
 },
 "nbformat": 4,
 "nbformat_minor": 2
}
