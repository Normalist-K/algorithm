{
 "cells": [
  {
   "cell_type": "markdown",
   "metadata": {},
   "source": [
    "# Binary Tree 이진트리\n",
    "\n",
    "\n",
    "- 특징\n",
    "    1. 모든 노드들이 2개의 서브트리를 갖는 특별한 형태의 트리\n",
    "    2. 노드가 자식 노드를 최대 2개 까지만 가질 수 있는 트리\n",
    "        - 왼쪽 자식 노드 / 오른쪽 자식 노드\n",
    "    3. 레벨 i에서의 노드의 최대 개수는 2<sup>i</sup>\n",
    "    4. 높이가 h인 이진 트리가 가질 수 있는 노드의 최소 개수는 (h+1)개, 최대 개수는 (2<sup>h+1</sup>-1)개가 됨\n",
    "    \n",
    "    \n",
    "- 종류\n",
    "    1. 포화 이진 트리(Full Binary Tree)\n",
    "        - 모든 레벨에 노드가 포화상태\n",
    "            1. 최대의 노드 개수인 (2<sup>h+1</sup>-1)개의 노드를 가진 이진 트리\n",
    "            2. 루트를 1번으로 하여 (2<sup>h+1</sup>-1)까지 정해진 위치에 대한 노드 번호를 가짐\n",
    "    2. 완전 이진 트리(Complete Binary Tree)\n",
    "        - 높이가 h이고 노드 수가 n개 일 때 (단, 2<sup>h</sup> <= 2<sup>h+1</sup>-1) 노드 번호 1번부터 n번까지 빈 자리가 없는 이진 트리\n",
    "    3. 편향 이진 트리(Skewed Binary Tree)\n",
    "        - 높이 h에 대한 최소 개수의 노드를 가지면서 한쪽 방향의 자식 노드 만을 가진 이진 트리 (왼쪽 편향 이진 트리, 오른쪽 편향 이진 트리)\n",
    "        \n",
    "        \n",
    "- 순회(traversal)\n",
    "    - 중복되지 않게 모든 노드 방문\n",
    "    - 비 선형 구조이기 때문에 선후 연결 관계를 알 수 없음\n",
    "    - 3가지 기본적인 순회 방법\n",
    "        1. 전위 순회(Preorder traversal): 노드 왼쪽\n",
    "            - VLR\n",
    "            - 자손노드보다 루트노드를 먼저 방문\n",
    "            - 수행 방법\n",
    "                1. 현재 노드 n을 방문하여 처리: V\n",
    "                2. 현재 노드 n을 서브트리로 이동: L\n",
    "                3. 현재 노드 n의 오른쪽 서브트리로 이동: R\n",
    "        2. 중위 순회(Inorder traversal): 노드 아래\n",
    "            - LVR\n",
    "            - 왼쪽 자손, 루트, 오른쪽 자손 순으로 방문\n",
    "            - 수행 방법\n",
    "                1. 현재 노드 n의 왼쪽 서브트리로 이동: L\n",
    "                2. 현재 노드 n을 방문하여 처리: V\n",
    "                3. 현재 노드 n의 오른쪽 서브트리로 이동: R\n",
    "        3. 후위 순회(Postorder traversal): 노드 오른쪽\n",
    "            - LRV\n",
    "            - 루트보다 자손을 먼저 방문\n",
    "            - 수행 방법\n",
    "                1. 현재 노드 n의 왼쪽 서브트리로 이동: L\n",
    "                2. 현재 노드 n의 오른쪽 서브트리로 이동: R\n",
    "                3. 현재 노드 n을 방문하여 처리: V\n",
    "    "
   ]
  },
  {
   "cell_type": "code",
   "execution_count": null,
   "metadata": {},
   "outputs": [],
   "source": []
  }
 ],
 "metadata": {
  "kernelspec": {
   "display_name": "Python 3",
   "language": "python",
   "name": "python3"
  },
  "language_info": {
   "codemirror_mode": {
    "name": "ipython",
    "version": 3
   },
   "file_extension": ".py",
   "mimetype": "text/x-python",
   "name": "python",
   "nbconvert_exporter": "python",
   "pygments_lexer": "ipython3",
   "version": "3.7.4"
  }
 },
 "nbformat": 4,
 "nbformat_minor": 2
}
