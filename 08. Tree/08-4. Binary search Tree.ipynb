{
 "cells": [
  {
   "cell_type": "markdown",
   "metadata": {},
   "source": [
    "# Binary Search Tree\n",
    "\n",
    "\n",
    "- 특징\n",
    "    - 탐색 작업을 효율적으로 하기 위한 자료구조\n",
    "    - 모든 원소는 서로 다른 유일한 키를 가짐\n",
    "    - 왼쪽 서브트리 < 루트 노드 < 오른쪽 서브트리\n",
    "    - 왼쪽/오른쪽 서브트리도 이진 탐색 트리임\n",
    "    - 중위 순회하면 오름차순으로 정렬된 값을 얻을 수 있음\n",
    "\n",
    "\n",
    "- 탐색 연산\n",
    "    1. 루트에서 시작\n",
    "    2. 탐색할 키 값 x를 루트 노드의 키 값과 비교\n",
    "        - 같으면 탐색 성공\n",
    "        - 작으면 왼쪽 서브트리 탐색 연산 수행\n",
    "        - 크면 오른쪽 서브트리 탐색 연산 수행\n",
    "    3. 서브트리에 대해 순환적으로 탐색 연산 반복\n",
    "\n",
    "\n",
    "- 삽입 연산\n",
    "    1. 먼저 탐색 연산 수행\n",
    "        - 탐색 실패가 결정되는 위치가 삽입 위치\n",
    "        - 같은 값이 있으면 삽입 불가\n",
    "    2. 탐색 실패한 위치에 원소를 삽입\n",
    "\n",
    "\n",
    "- 성능\n",
    "    - 탐색, 삽입, 삭제 시간은 트리의 높이에 좌우 됨\n",
    "        - **O(h), h = height of bts\n",
    "    - 평균의 경우(이진 트리가 균형적)\n",
    "        - **O(log n)**\n",
    "    - 최악의 경우(한쪽으로 치우친 경사 이진 트리)\n",
    "        - **O(n)\n",
    "        - 순차탐색과 같음"
   ]
  },
  {
   "cell_type": "code",
   "execution_count": null,
   "metadata": {},
   "outputs": [],
   "source": []
  }
 ],
 "metadata": {
  "kernelspec": {
   "display_name": "Python 3",
   "language": "python",
   "name": "python3"
  },
  "language_info": {
   "codemirror_mode": {
    "name": "ipython",
    "version": 3
   },
   "file_extension": ".py",
   "mimetype": "text/x-python",
   "name": "python",
   "nbconvert_exporter": "python",
   "pygments_lexer": "ipython3",
   "version": "3.7.4"
  }
 },
 "nbformat": 4,
 "nbformat_minor": 2
}
