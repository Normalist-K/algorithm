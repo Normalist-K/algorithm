{
 "cells": [
  {
   "cell_type": "markdown",
   "metadata": {},
   "source": [
    "# Linked List\n",
    "\n",
    "## List of Python\n",
    "- 데이터의 묶음 - 중복 저장 가능\n",
    "- 시퀀스 자료형 - 인덱싱, 슬라이싱, 연산자, 메서드 사용 가능\n",
    "- 크기 제한 없음, 타입제한 없음\n",
    "    - 참고) 배열: 크기 변경 불가, 선언된 한가지 타입만 저장 가능\n",
    "\n",
    "## 순차 리스트 (Sequential List)\n",
    "- 배열을 기반으로 구현된 리스트\n",
    "- 파이썬의 리스트\n",
    "    - 동적 배열로 작성된 순차 리스트\n",
    "    - 자료의 삽입, 삭제 연산 시 원소의 이동 작업이 필요함"
   ]
  },
  {
   "cell_type": "code",
   "execution_count": 2,
   "metadata": {},
   "outputs": [],
   "source": [
    "# 리스트 복사\n",
    "old_list = [1, 2, 3, 4]\n",
    "\n",
    "# 1. 주소의 복사, 얕은(swallow) 복사\n",
    "new_list = old_list \n",
    "\n",
    "# 2. 슬라이싱, 깊은(deep) 복사\n",
    "new_list = old_list[:] \n",
    "new_list = []\n",
    "\n",
    "# 3. 리스트를 추가하는 함수, 깊은 복사\n",
    "new_list.extend(old_list) \n",
    "\n",
    "# 4. list(), 깊은 복사\n",
    "new_list = list(old_list) \n",
    "\n",
    "# 5. copy(), 깊은 복사\n",
    "from copy import copy\n",
    "new_list = copy(old_list)\n",
    "\n",
    "# 6. list comprehension, 깊은 복사\n",
    "new_list = [i for i in old_list]\n",
    "\n",
    "# 7. 리스트 원소까지 복사, 가장 느림, 깊은 복사\n",
    "from copy import deepcopy\n",
    "new_list = deepcopy(old_list)"
   ]
  },
  {
   "cell_type": "markdown",
   "metadata": {},
   "source": [
    "## 연결 리스트 (Linked List)\n",
    "- 메모리의 동적할당을 기반으로 구현된 리스트\n",
    "- 순차 리스트의 단점을 보완\n",
    "    - 자료의 논리적인 순서오 ㅏ메모리 상의 물리적인 순서가 다름\n",
    "    - **개별적 원소의 주소를 연결**\n",
    "    - 링크를 통해 원소 접근, 순차리스트처럼 **물리적인 순서를 맞추기 위한 작업 필요없음**\n",
    "    - 크기를 동적으로 조정, **메모리의 효율적인 사용 가능**\n",
    "    - 탐색 - 순차탐색\n",
    "- 주요 함수\n",
    "    - **addtoFirst()**: 연결 리스트의 앞쪽에 원소 추가\n",
    "    - **addtoLast()**: 뒤쪽에 원소 추가\n",
    "    - **add()**: 특정 위치에 있는 원소 추가\n",
    "    - **delete()**: 특정 위치에 있는 원소 삭제\n",
    "    - **get()**: 특정 위치에 있는 원소 리턴\n",
    "- 구성\n",
    "    - 노드: 연결 리스트에서 하나의 원소에 필요한 데이터를 가지고 있는 자료 단위\n",
    "        - 데이터 필드: 원소의 값 저장\n",
    "        - 링크 필드: 다음 노드의 주소를 저장\n",
    "    - 헤드: 리스트의 처음 노드를 가리키는 레퍼런스\n",
    "\n",
    "### 단순 연결 리스트\n",
    "- 노드가 하나의 링크 필드에 의해 다음 노드와 연결되는 구조\n",
    "- 헤드가 가장 앞 노드를 가리키고, 각 노드의 링크 필드가 연속적으로 다음 노드를 가리킴\n",
    "- 최종적으로 None을 가리키는 노드가 가장 마지막 노드"
   ]
  },
  {
   "cell_type": "code",
   "execution_count": 11,
   "metadata": {},
   "outputs": [
    {
     "name": "stdout",
     "output_type": "stream",
     "text": [
      "<__main__.SimpleLinkedList object at 0x10aa0d350>\n"
     ]
    }
   ],
   "source": [
    "class Node:\n",
    "    def __init__(self, data=None, link=None):\n",
    "        self.data = data\n",
    "        self.link = link\n",
    "\n",
    "class SimpleLinkedList():\n",
    "    def __init__(self):\n",
    "        self.head = None\n",
    "        \n",
    "    def addtoFirst(self, data):\n",
    "        self.head = Node(data, self.head)\n",
    "        \n",
    "    def add(self, pre, data):\n",
    "        if pre == None:\n",
    "            return None\n",
    "        else: \n",
    "            pre.link = self.Node(data, pre.link)\n",
    "            \n",
    "    def addtoLast(self, data):\n",
    "        if self.head == None:\n",
    "            self.head = self.Node(data, None)\n",
    "        else: # 헤드부터 끝까지 돌아서 거기에 추가하기, 이중연결리스트로 만들면 연산속도 향상할 수 있음\n",
    "            p = self.head\n",
    "            while p.link != None:\n",
    "                p = p.link\n",
    "            p.link = self.Node(data, None)\n",
    "            \n",
    "    def deletetoFirst(self):\n",
    "        if self.head == None:\n",
    "            return None\n",
    "        else:\n",
    "            self.head = self.head.link\n",
    "            \n",
    "    def delete(pre):\n",
    "        if pre == None or pre.link == None:\n",
    "            return None\n",
    "        else:\n",
    "            pre.link = pre.link.link"
   ]
  },
  {
   "cell_type": "markdown",
   "metadata": {},
   "source": [
    "### 이중 연결 리스트\n",
    "- 양쪽 방향으로 순회할 수 있도록 노드를 연결한 리스트\n",
    "- 두 개의 링크 필드와 한 개의 데이터 필드"
   ]
  },
  {
   "cell_type": "code",
   "execution_count": null,
   "metadata": {},
   "outputs": [],
   "source": []
  }
 ],
 "metadata": {
  "kernelspec": {
   "display_name": "Python 3",
   "language": "python",
   "name": "python3"
  },
  "language_info": {
   "codemirror_mode": {
    "name": "ipython",
    "version": 3
   },
   "file_extension": ".py",
   "mimetype": "text/x-python",
   "name": "python",
   "nbconvert_exporter": "python",
   "pygments_lexer": "ipython3",
   "version": "3.7.4"
  }
 },
 "nbformat": 4,
 "nbformat_minor": 2
}
