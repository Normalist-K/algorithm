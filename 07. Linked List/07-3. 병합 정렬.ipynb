{
 "cells": [
  {
   "cell_type": "markdown",
   "metadata": {},
   "source": [
    "# 병합 정렬\n",
    "- 여러 개의 정렬된 자료의 집합을 병합하여 한 개의 정렬된 집합으로 만드는 방식\n",
    "- 분할 정복 알고리즘 활용\n",
    "    - **자료를 최소 단위의 문제까지 나눈 후에 차례대로 정렬**\n",
    "    - Top-Down 방식\n",
    "- **시간 복잡도: O(nlogn)**\n",
    "    "
   ]
  },
  {
   "cell_type": "code",
   "execution_count": null,
   "metadata": {},
   "outputs": [],
   "source": [
    "def merge(left, right):\n",
    "    # 두 개의 분할된 리스트를 병합하여 result를 만듦\n",
    "    result = []\n",
    "    \n",
    "    # 양 쪽 리스트에 원소가 남아있는 경우\n",
    "    while len(left) > 0 len(right) > 0:\n",
    "        # 두 서브 리스트의 첫 원소들을 비교하여 작은 것부터 result에 추가함\n",
    "        if left[0] <= right[0]:\n",
    "            result.append(left.pop(0))\n",
    "        else:\n",
    "            result.append(right.pop(0))\n",
    "    \n",
    "    # 왼쪽 리스트에 원소가 남아있는 경우\n",
    "    if len(left) > 0:\n",
    "        result.extend(left)\n",
    "    # 오른쪽 리스트에 원소가 남아있는 경우\n",
    "    if len(right) > 0:\n",
    "        result.extend(right)\n",
    "    \n",
    "    return result\n",
    "        \n",
    "    \n",
    "def merge_sort(m):\n",
    "    # 사이즈가 1이거나 0이면 return\n",
    "    if len(m) <= 1: \n",
    "        return m\n",
    "    \n",
    "    # 1. DIVIDE 부분\n",
    "    mid = len(m) // 2\n",
    "    left = m[:mid]\n",
    "    right = m[mid:]\n",
    "    \n",
    "    # 리스트의 크기가 1이 될 때까지 merge_sort 재귀 호출\n",
    "    left = merge_sort(left)\n",
    "    right = merge_sort(right)\n",
    "    \n",
    "    # 2. CONQUER 부분 : 분할된 리스트를 병합\n",
    "    return merge(left, right)"
   ]
  }
 ],
 "metadata": {
  "kernelspec": {
   "display_name": "Python 3",
   "language": "python",
   "name": "python3"
  },
  "language_info": {
   "codemirror_mode": {
    "name": "ipython",
    "version": 3
   },
   "file_extension": ".py",
   "mimetype": "text/x-python",
   "name": "python",
   "nbconvert_exporter": "python",
   "pygments_lexer": "ipython3",
   "version": "3.7.4"
  }
 },
 "nbformat": 4,
 "nbformat_minor": 2
}
