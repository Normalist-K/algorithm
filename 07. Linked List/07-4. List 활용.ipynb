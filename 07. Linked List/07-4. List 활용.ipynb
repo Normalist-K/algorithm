{
 "cells": [
  {
   "cell_type": "markdown",
   "metadata": {},
   "source": [
    "# List의 활용\n",
    "## List로 구현한 Stack\n",
    "- 스택의 원소: 리스트의 노드\n",
    "    - 스택 내의 순서는 리스트의 링크를 통해 연결됨\n",
    "    - Push: 리스트의 마지막에 노드 삽입\n",
    "    - Pop: 리스트의 마지막 노드 반환/삭제\n",
    "- 변수 Top\n",
    "    - 리스트의 마지막 노드를 가리키는 변수\n",
    "    - 초기 Top = None"
   ]
  },
  {
   "cell_type": "code",
   "execution_count": 1,
   "metadata": {},
   "outputs": [],
   "source": [
    "# 원소 i를 stack top 위치에 push\n",
    "def push(i):\n",
    "    global top\n",
    "    # 새로운 노드 생성\n",
    "    top = Node(i, top)\n",
    "\n",
    "# stack의 top을 pop\n",
    "def pop():\n",
    "    global top\n",
    "    \n",
    "    if top == None:\n",
    "        return None\n",
    "    else:\n",
    "        data = top.data\n",
    "        #top이 가리키는 노드를 바꿈\n",
    "        top = top.link\n",
    "        return data\n",
    "    "
   ]
  },
  {
   "cell_type": "markdown",
   "metadata": {},
   "source": [
    "## 우선순위 queue\n",
    "### 순차 리스트를 이용한 우선순위 큐 구현\n",
    "- 순차 리스트를 이용하여 자료 저장\n",
    "- 원소를 삽입하는 과정에서 우선순위를 비교하여 적절한 위치에 삽입하는 구조\n",
    "- 가장 앞에 최고 우선순위의 원소가 위치하게 됨\n",
    "- 문제점\n",
    "    - 삽입, 삭제 시 시간과 메모리 낭비가 큼\n",
    "    \n",
    "### 연결 리스트를 이용한 우선순위 큐 구현\n",
    "- 원소를 삽입하는 과정에서 리스트 내 노드의 원소들과 비교하여 적절한 위치에 노드 삽입\n",
    "- 리스트의 가장 앞쪽에 최고 우선순위가 위치하게 됨\n",
    "- 배열 대비 장점\n",
    "    - 원소의 재배치가 없어서 메모리 효율 증가"
   ]
  },
  {
   "cell_type": "code",
   "execution_count": null,
   "metadata": {},
   "outputs": [],
   "source": []
  }
 ],
 "metadata": {
  "kernelspec": {
   "display_name": "Python 3",
   "language": "python",
   "name": "python3"
  },
  "language_info": {
   "codemirror_mode": {
    "name": "ipython",
    "version": 3
   },
   "file_extension": ".py",
   "mimetype": "text/x-python",
   "name": "python",
   "nbconvert_exporter": "python",
   "pygments_lexer": "ipython3",
   "version": "3.7.4"
  }
 },
 "nbformat": 4,
 "nbformat_minor": 2
}
