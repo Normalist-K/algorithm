{
 "cells": [
  {
   "cell_type": "markdown",
   "metadata": {},
   "source": [
    "# 삽입 정렬\n",
    "- a.k.a 도서관 책 정리\n",
    "- 자료 배열의 모든 원소들을 앞에서부터 차례대로 이미 정렬된 부분과 비교하여, 자신의 위치를 찾음\n",
    "- 정렬 과정\n",
    "    - 정렬할 자료를 두 개의 부분집합 S와 U로 가정\n",
    "        - 부분집합 S: 정렬된 앞 부분의 원소들\n",
    "        - 부분집합 U: 아직 정렬되지 않은 나머지 원소들\n",
    "    - U의 원소를 하나씩 꺼내서 S의 마지막 원소부터 비교하면서 위치를 찾아 삽입\n",
    "    - 계속 반복, S의 원소는 하나씩 증가, U의 원소는 하나씩 감소\n",
    "    - U가 공집합이 되면 끝\n",
    "- **시간 복잡도: O(n<sup>2</sup>)**"
   ]
  },
  {
   "cell_type": "code",
   "execution_count": null,
   "metadata": {},
   "outputs": [],
   "source": []
  }
 ],
 "metadata": {
  "kernelspec": {
   "display_name": "Python 3",
   "language": "python",
   "name": "python3"
  },
  "language_info": {
   "codemirror_mode": {
    "name": "ipython",
    "version": 3
   },
   "file_extension": ".py",
   "mimetype": "text/x-python",
   "name": "python",
   "nbconvert_exporter": "python",
   "pygments_lexer": "ipython3",
   "version": "3.7.4"
  }
 },
 "nbformat": 4,
 "nbformat_minor": 2
}
